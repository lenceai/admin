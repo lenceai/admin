{
  "cells": [
    {
      "cell_type": "markdown",
      "metadata": {},
      "source": [
        "# St. Jude Data Consolidation and Analysis\n",
        "\n",
        "This script processes and analyzes storage location mapping data from multiple sources.\n",
        "It consolidates data from different sheets, filters relevant information, and distributes\n",
        "the data across Cohesity storage systems."
      ]
    },
    {
      "cell_type": "code",
      "execution_count": 1,
      "metadata": {},
      "outputs": [],
      "source": [
        "import numpy as np\n",
        "import pandas as pd"
      ]
    },
    {
      "cell_type": "markdown",
      "metadata": {},
      "source": [
        "## Section 1: Data Loading and Initial Consolidation\n",
        "\n",
        "This section:\n",
        "- Loads the Excel file containing storage location mapping data\n",
        "- Reads data from multiple sheets (RDDR01 through RDDR06)\n",
        "- Combines all sheets into a single consolidated dataframe"
      ]
    },
    {
      "cell_type": "code",
      "execution_count": 2,
      "metadata": {},
      "outputs": [
        {
          "name": "stdout",
          "output_type": "stream",
          "text": [
            "\n",
            "Initial consolidated data preview:\n",
            "    Source System   Fileset Name Source Path Target Path Source GB 3/29  \\\n",
            "378          Jude  groups-zhugrp         NaN         NaN        34999.0   \n",
            "379           NaN            NaN         NaN         NaN            NaN   \n",
            "380           NaN  Groups Totals         NaN         NaN     12981433.0   \n",
            "381           NaN            NaN         NaN         NaN            NaN   \n",
            "382           NaN  RDDR06 Totals         NaN         NaN     12981433.0   \n",
            "\n",
            "    Source Filecount 3/29 Target GB 3/29 Target Filecount 3/29 GB Complete  \\\n",
            "378              192066.0        34988.0                   NaN         NaN   \n",
            "379                   NaN            NaN                   NaN         NaN   \n",
            "380           651836097.0     12362228.0                   NaN         NaN   \n",
            "381                   NaN            NaN                   NaN         NaN   \n",
            "382           651836097.0     12362228.0                   NaN         NaN   \n",
            "\n",
            "    File Complete  ...     Group Name Create Verfied KB Complete Unnamed: 18  \\\n",
            "378      0.999958  ...  groups-zhugrp            NaN    0.999686         NaN   \n",
            "379           NaN  ...            NaN            NaN         NaN         NaN   \n",
            "380      0.860939  ...            NaN            NaN    0.952301         NaN   \n",
            "381           NaN  ...            NaN            NaN         NaN         NaN   \n",
            "382      0.860939  ...            NaN            NaN    0.952301         NaN   \n",
            "\n",
            "    Unnamed: 19 Unnamed: 3 Source Name                   Fileset Path  \\\n",
            "378         NaN        NaN         NaN  /research/rgs01/groups/zhugrp   \n",
            "379         NaN        NaN         NaN                            NaN   \n",
            "380         NaN        NaN         NaN                            NaN   \n",
            "381         NaN        NaN         NaN                            NaN   \n",
            "382         NaN        NaN         NaN                            NaN   \n",
            "\n",
            "                   Target Directory Target Filecount 3/22  \n",
            "378  /research/rddr06/groups/zhugrp              192058.0  \n",
            "379                             NaN                   NaN  \n",
            "380                             NaN           561190857.0  \n",
            "381                             NaN                   NaN  \n",
            "382                             NaN           561190857.0  \n",
            "\n",
            "[5 rows x 29 columns]\n"
          ]
        }
      ],
      "source": [
        "# Load the Excel file\n",
        "file_path = 'DR_Storage_Location_Mapping_V1.0.xlsx'\n",
        "excel_data = pd.ExcelFile(file_path)\n",
        "\n",
        "# List of sheet names to consolidate\n",
        "sheet_names = ['RDDR01', 'RDDR02', 'RDDR03', 'RDDR04', 'RDDR05', 'RDDR06']\n",
        "\n",
        "# Read and concatenate data from the specified sheets\n",
        "data_frames = [excel_data.parse(sheet) for sheet in sheet_names]\n",
        "consolidated_data = pd.concat(data_frames, ignore_index=True)\n",
        "\n",
        "# Display the last few rows to verify the data\n",
        "print(\"\\nInitial consolidated data preview:\")\n",
        "print(consolidated_data.tail())"
      ]
    },
    {
      "cell_type": "markdown",
      "metadata": {},
      "source": [
        "## Section 2: Data Cleaning and Filtering\n",
        "\n",
        "This section:\n",
        "- Removes rows with missing source paths\n",
        "- Filters data to only include entries from 'Jude', 'RS1', or 'RS2' source systems\n",
        "- Saves the cleaned data to a CSV file"
      ]
    },
    {
      "cell_type": "code",
      "execution_count": 3,
      "metadata": {},
      "outputs": [
        {
          "name": "stdout",
          "output_type": "stream",
          "text": [
            "\n",
            "Consolidated CSV file saved to consolidated_data.csv\n",
            "\n",
            "Cleaned data preview:\n",
            "    Source System   Fileset Name                    Source Path Target Path  \\\n",
            "295          Jude   shres-IMINFO   /research/rgs01/shres/IMINFO         NaN   \n",
            "296          Jude  shres-SCIMGEM  /research/rgs01/shres/SCIMGEM         NaN   \n",
            "297          Jude  shres-SCIMGLM  /research/rgs01/shres/SCIMGLM         NaN   \n",
            "298          Jude      shres-TGC      /research/rgs01/shres/TGC         NaN   \n",
            "299          Jude     shres-VECT     /research/rgs01/shres/VECT         NaN   \n",
            "\n",
            "    Source GB 3/29 Source Filecount 3/29 Target GB 3/29 Target Filecount 3/29  \\\n",
            "295       410143.0            36817327.0       405886.0            36428709.0   \n",
            "296        37244.0             9767234.0        32778.0             9161474.0   \n",
            "297       438176.0            10696449.0       424886.0            10269290.0   \n",
            "298           21.0               11274.0           20.0               11194.0   \n",
            "299         3112.0              708939.0         3000.0              692884.0   \n",
            "\n",
            "    GB Complete File Complete  ... Group Name Create Verfied KB Complete  \\\n",
            "295    0.989621      0.989445  ...        NaN            NaN         NaN   \n",
            "296    0.880088       0.93798  ...        NaN            NaN         NaN   \n",
            "297     0.96967      0.960065  ...        NaN            NaN         NaN   \n",
            "298    0.952381      0.992904  ...        NaN            NaN         NaN   \n",
            "299     0.96401      0.977353  ...        NaN            NaN         NaN   \n",
            "\n",
            "    Unnamed: 18 Unnamed: 19                      Unnamed: 3    Source Name  \\\n",
            "295         NaN         NaN   /research/rddr05/shres/IMINFO   shres-IMINFO   \n",
            "296         NaN         NaN  /research/rddr05/shres/SCIMGEM  shres-SCIMGEM   \n",
            "297         NaN         NaN  /research/rddr05/shres/SCIMGLM  shres-SCIMGLM   \n",
            "298         NaN         NaN      /research/rddr05/shres/TGC      shres-TGC   \n",
            "299         NaN         NaN     /research/rddr05/shres/VECT     shres-VECT   \n",
            "\n",
            "     Fileset Path  Target Directory Target Filecount 3/22  \n",
            "295           NaN               NaN                   NaN  \n",
            "296           NaN               NaN                   NaN  \n",
            "297           NaN               NaN                   NaN  \n",
            "298           NaN               NaN                   NaN  \n",
            "299           NaN               NaN                   NaN  \n",
            "\n",
            "[5 rows x 29 columns]\n"
          ]
        }
      ],
      "source": [
        "# Remove rows with NaN in the 'source system' column\n",
        "consolidated_data = consolidated_data.dropna(subset=['Source Path'])\n",
        "\n",
        "# Drop rows that do not have 'Jude', 'RS1', or 'RS2' in the 'Source System' column\n",
        "consolidated_data = consolidated_data[consolidated_data['Source System'].isin(['Jude', 'RS1', 'RS2'])]\n",
        "\n",
        "# Save the consolidated data to a CSV file\n",
        "output_csv_path = 'consolidated_data.csv'\n",
        "consolidated_data.to_csv(output_csv_path, index=False)\n",
        "\n",
        "print(f\"\\nConsolidated CSV file saved to {output_csv_path}\")\n",
        "print(\"\\nCleaned data preview:\")\n",
        "print(consolidated_data.tail())"
      ]
    },
    {
      "cell_type": "markdown",
      "metadata": {},
      "source": [
        "## Section 3: Data Column Selection\n",
        "\n",
        "This section:\n",
        "- Selects only the essential columns: Source System, Source Path, and Source GB (3/29)\n",
        "- Saves the filtered dataset to a new CSV file"
      ]
    },
    {
      "cell_type": "code",
      "execution_count": 4,
      "metadata": {},
      "outputs": [
        {
          "name": "stdout",
          "output_type": "stream",
          "text": [
            "\n",
            "Filtered data CSV file saved to data.csv\n",
            "\n",
            "Selected columns data preview:\n",
            "    Source System                    Source Path Source GB 3/29\n",
            "295          Jude   /research/rgs01/shres/IMINFO       410143.0\n",
            "296          Jude  /research/rgs01/shres/SCIMGEM        37244.0\n",
            "297          Jude  /research/rgs01/shres/SCIMGLM       438176.0\n",
            "298          Jude      /research/rgs01/shres/TGC           21.0\n",
            "299          Jude     /research/rgs01/shres/VECT         3112.0\n"
          ]
        }
      ],
      "source": [
        "# Keep only the specified columns\n",
        "columns_to_keep = ['Source System', 'Source Path', 'Source GB 3/29']\n",
        "data = consolidated_data[columns_to_keep]\n",
        "\n",
        "# Save the data to a CSV file\n",
        "output_csv_path = 'data.csv'\n",
        "data.to_csv(output_csv_path, index=False)\n",
        "\n",
        "print(f\"\\nFiltered data CSV file saved to {output_csv_path}\")\n",
        "print(\"\\nSelected columns data preview:\")\n",
        "print(data.tail())"
      ]
    },
    {
      "cell_type": "markdown",
      "metadata": {},
      "source": [
        "## Section 4: Total Storage Calculation\n",
        "\n",
        "This section:\n",
        "- Sums up all values in the 'Source GB 3/29' column\n",
        "- Converts the total from GB to PB (Petabytes)"
      ]
    },
    {
      "cell_type": "code",
      "execution_count": 5,
      "metadata": {},
      "outputs": [
        {
          "name": "stdout",
          "output_type": "stream",
          "text": [
            "\n",
            "Total Storage Calculation:\n",
            "Total GB: 64,469,343.00\n",
            "Total PB: 64.47\n"
          ]
        }
      ],
      "source": [
        "# Sum the 'Source GB 3/29' column and convert from GB to PB\n",
        "total_gb = data['Source GB 3/29'].sum()\n",
        "total_pb = total_gb / 1_000_000\n",
        "\n",
        "print(f\"\\nTotal Storage Calculation:\")\n",
        "print(f\"Total GB: {total_gb:,.2f}\")\n",
        "print(f\"Total PB: {total_pb:,.2f}\")"
      ]
    },
    {
      "cell_type": "markdown",
      "metadata": {},
      "source": [
        "## Section 5: Cohesity Storage Distribution\n",
        "\n",
        "This section:\n",
        "- Creates 13 Cohesity storage groups\n",
        "- Sorts data by storage size in descending order\n",
        "- Distributes the data across Cohesity groups, aiming for approximately 5 PB per group\n",
        "- Saves the distribution layout to a CSV file"
      ]
    },
    {
      "cell_type": "code",
      "execution_count": 6,
      "metadata": {},
      "outputs": [
        {
          "name": "stdout",
          "output_type": "stream",
          "text": [
            "\n",
            "Grouped data CSV file saved to layout.csv\n",
            "\n",
            "Distribution preview:\n",
            "  Source System                       Source Path Source GB 3/29    Cohesity\n",
            "0           RS2       /research/rgs02/resgen/prod        4793325  Cohesity_1\n",
            "1          Jude   /research/rgs01/groups/zhanggrp      4722804.0  Cohesity_2\n",
            "2           RS1  /research/rgs01/home/clusterHome      4625031.5  Cohesity_3\n",
            "3           RS1         /research/rgs01/reference      3174454.5  Cohesity_4\n",
            "4          Jude   /research/rgs01/groups/mulligrp      3157182.0  Cohesity_5\n"
          ]
        }
      ],
      "source": [
        "# Divide data into 13 names for Cohesity column\n",
        "names = ['Cohesity_' + str(i + 1) for i in range(13)]\n",
        "data = data.sort_values(by='Source GB 3/29', ascending=False).reset_index(drop=True)\n",
        "data['Cohesity'] = ''\n",
        "\n",
        "# Allocate approximately 5 PB per Cohesity group\n",
        "cohesity_sums = [0] * len(names)\n",
        "for idx, row in data.iterrows():\n",
        "    min_index = cohesity_sums.index(min(cohesity_sums))\n",
        "    data.loc[idx, 'Cohesity'] = str(names[min_index])\n",
        "    cohesity_sums[min_index] += row['Source GB 3/29']\n",
        "\n",
        "# Save the grouped data to a CSV file\n",
        "output_csv_path = 'layout.csv'\n",
        "data.to_csv(output_csv_path, index=False)\n",
        "\n",
        "print(f\"\\nGrouped data CSV file saved to {output_csv_path}\")\n",
        "print(\"\\nDistribution preview:\")\n",
        "print(data.head())"
      ]
    },
    {
      "cell_type": "markdown",
      "metadata": {},
      "source": [
        "## Section 6: Storage Distribution Summary\n",
        "\n",
        "This section:\n",
        "- Groups the data by Cohesity storage system\n",
        "- Calculates the total storage allocated to each Cohesity system\n",
        "- Converts the storage values from GB to PB\n",
        "- Saves the summary to a CSV file"
      ]
    },
    {
      "cell_type": "code",
      "execution_count": 7,
      "metadata": {},
      "outputs": [
        {
          "name": "stdout",
          "output_type": "stream",
          "text": [
            "\n",
            "Grouped data CSV file saved to grouped_data.csv\n",
            "\n",
            "Storage distribution summary:\n",
            "       Cohesity Source GB 3/29 Source PB\n",
            "0    Cohesity_1      4959170.0   4.95917\n",
            "1   Cohesity_10      4959176.0  4.959176\n",
            "2   Cohesity_11      4959176.0  4.959176\n",
            "3   Cohesity_12      4959181.0  4.959181\n",
            "4   Cohesity_13      4959175.0  4.959175\n",
            "5    Cohesity_2      4959170.0   4.95917\n",
            "6    Cohesity_3      4959169.5  4.959169\n",
            "7    Cohesity_4      4959219.5  4.959219\n",
            "8    Cohesity_5      4959193.0  4.959193\n",
            "9    Cohesity_6      4959171.0  4.959171\n",
            "10   Cohesity_7      4959174.0  4.959174\n",
            "11   Cohesity_8      4959169.0  4.959169\n",
            "12   Cohesity_9      4959199.0  4.959199\n"
          ]
        }
      ],
      "source": [
        "# Group by 'Cohesity' and sum 'Source GB 10/13', then convert to PB\n",
        "grouped_data = data.groupby('Cohesity')['Source GB 3/29'].sum().reset_index()\n",
        "grouped_data['Source PB'] = grouped_data['Source GB 3/29'] / 1_000_000\n",
        "\n",
        "# Save the grouped data to a CSV file\n",
        "output_csv_path = 'grouped_data.csv'\n",
        "grouped_data.to_csv(output_csv_path, index=False)\n",
        "\n",
        "print(f\"\\nGrouped data CSV file saved to {output_csv_path}\")\n",
        "print(\"\\nStorage distribution summary:\")\n",
        "print(grouped_data)"
      ]
    }
  ],
  "metadata": {
    "kernelspec": {
      "display_name": "base",
      "language": "python",
      "name": "python3"
    },
    "language_info": {
      "codemirror_mode": {
        "name": "ipython",
        "version": 3
      },
      "file_extension": ".py",
      "mimetype": "text/x-python",
      "name": "python",
      "nbconvert_exporter": "python",
      "pygments_lexer": "ipython3",
      "version": "3.11.7"
    }
  },
  "nbformat": 4,
  "nbformat_minor": 4
}
